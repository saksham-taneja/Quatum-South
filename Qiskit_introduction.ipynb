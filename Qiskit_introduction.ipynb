{
 "cells": [
  {
   "cell_type": "code",
   "execution_count": 1,
   "metadata": {},
   "outputs": [
    {
     "name": "stdout",
     "output_type": "stream",
     "text": [
      "Requirement already satisfied: qiskit[visualization] in c:\\users\\saksh\\anaconda3\\lib\\site-packages (0.29.0)\n",
      "Requirement already satisfied: qiskit-ignis==0.6.0 in c:\\users\\saksh\\anaconda3\\lib\\site-packages (from qiskit[visualization]) (0.6.0)\n",
      "Requirement already satisfied: qiskit-aer==0.8.2 in c:\\users\\saksh\\anaconda3\\lib\\site-packages (from qiskit[visualization]) (0.8.2)\n",
      "Requirement already satisfied: qiskit-aqua==0.9.4 in c:\\users\\saksh\\anaconda3\\lib\\site-packages (from qiskit[visualization]) (0.9.4)\n",
      "Requirement already satisfied: qiskit-terra==0.18.1 in c:\\users\\saksh\\anaconda3\\lib\\site-packages (from qiskit[visualization]) (0.18.1)\n",
      "Requirement already satisfied: qiskit-ibmq-provider==0.16.0 in c:\\users\\saksh\\anaconda3\\lib\\site-packages (from qiskit[visualization]) (0.16.0)\n",
      "Collecting pylatexenc>=1.4; extra == \"visualization\"\n",
      "  Downloading pylatexenc-2.10.tar.gz (162 kB)\n",
      "Requirement already satisfied: matplotlib>=2.1; extra == \"visualization\" in c:\\users\\saksh\\anaconda3\\lib\\site-packages (from qiskit[visualization]) (3.2.2)\n",
      "Requirement already satisfied: pygments>=2.4; extra == \"visualization\" in c:\\users\\saksh\\anaconda3\\lib\\site-packages (from qiskit[visualization]) (2.6.1)\n",
      "Requirement already satisfied: seaborn>=0.9.0; extra == \"visualization\" in c:\\users\\saksh\\anaconda3\\lib\\site-packages (from qiskit[visualization]) (0.10.1)\n",
      "Requirement already satisfied: pillow>=4.2.1; extra == \"visualization\" in c:\\users\\saksh\\anaconda3\\lib\\site-packages (from qiskit[visualization]) (7.2.0)\n",
      "Collecting pydot; extra == \"visualization\"\n",
      "  Downloading pydot-1.4.2-py2.py3-none-any.whl (21 kB)\n",
      "Requirement already satisfied: ipywidgets>=7.3.0; extra == \"visualization\" in c:\\users\\saksh\\anaconda3\\lib\\site-packages (from qiskit[visualization]) (7.5.1)\n",
      "Requirement already satisfied: retworkx>=0.8.0 in c:\\users\\saksh\\anaconda3\\lib\\site-packages (from qiskit-ignis==0.6.0->qiskit[visualization]) (0.10.2)\n",
      "Requirement already satisfied: scipy!=0.19.1,>=0.19 in c:\\users\\saksh\\anaconda3\\lib\\site-packages (from qiskit-ignis==0.6.0->qiskit[visualization]) (1.5.0)\n",
      "Requirement already satisfied: setuptools>=40.1.0 in c:\\users\\saksh\\anaconda3\\lib\\site-packages (from qiskit-ignis==0.6.0->qiskit[visualization]) (49.2.0.post20200714)\n",
      "Requirement already satisfied: numpy>=1.13 in c:\\users\\saksh\\anaconda3\\lib\\site-packages (from qiskit-ignis==0.6.0->qiskit[visualization]) (1.18.5)\n",
      "Requirement already satisfied: pybind11>=2.6 in c:\\users\\saksh\\anaconda3\\lib\\site-packages (from qiskit-aer==0.8.2->qiskit[visualization]) (2.7.1)\n",
      "Requirement already satisfied: docplex>=2.21.207 in c:\\users\\saksh\\anaconda3\\lib\\site-packages (from qiskit-aqua==0.9.4->qiskit[visualization]) (2.21.207)\n",
      "Requirement already satisfied: dlx<=1.0.4 in c:\\users\\saksh\\anaconda3\\lib\\site-packages (from qiskit-aqua==0.9.4->qiskit[visualization]) (1.0.4)\n",
      "Requirement already satisfied: h5py<3.3.0 in c:\\users\\saksh\\anaconda3\\lib\\site-packages (from qiskit-aqua==0.9.4->qiskit[visualization]) (2.10.0)\n",
      "Requirement already satisfied: yfinance<0.1.63 in c:\\users\\saksh\\anaconda3\\lib\\site-packages (from qiskit-aqua==0.9.4->qiskit[visualization]) (0.1.62)\n",
      "Requirement already satisfied: fastdtw<=0.3.4 in c:\\users\\saksh\\anaconda3\\lib\\site-packages (from qiskit-aqua==0.9.4->qiskit[visualization]) (0.3.4)\n",
      "Requirement already satisfied: scikit-learn>=0.20.0 in c:\\users\\saksh\\anaconda3\\lib\\site-packages (from qiskit-aqua==0.9.4->qiskit[visualization]) (0.23.1)\n",
      "Requirement already satisfied: quandl in c:\\users\\saksh\\anaconda3\\lib\\site-packages (from qiskit-aqua==0.9.4->qiskit[visualization]) (3.6.1)\n",
      "Requirement already satisfied: sympy>=1.3 in c:\\users\\saksh\\anaconda3\\lib\\site-packages (from qiskit-aqua==0.9.4->qiskit[visualization]) (1.6.1)\n",
      "Requirement already satisfied: psutil>=5 in c:\\users\\saksh\\anaconda3\\lib\\site-packages (from qiskit-aqua==0.9.4->qiskit[visualization]) (5.7.0)\n",
      "Requirement already satisfied: pandas in c:\\users\\saksh\\anaconda3\\lib\\site-packages (from qiskit-aqua==0.9.4->qiskit[visualization]) (1.0.5)\n",
      "Requirement already satisfied: fastjsonschema>=2.10 in c:\\users\\saksh\\anaconda3\\lib\\site-packages (from qiskit-terra==0.18.1->qiskit[visualization]) (2.15.1)\n",
      "Requirement already satisfied: python-dateutil>=2.8.0 in c:\\users\\saksh\\anaconda3\\lib\\site-packages (from qiskit-terra==0.18.1->qiskit[visualization]) (2.8.1)\n",
      "Requirement already satisfied: tweedledum<2.0,>=1.1 in c:\\users\\saksh\\anaconda3\\lib\\site-packages (from qiskit-terra==0.18.1->qiskit[visualization]) (1.1.1)\n",
      "Requirement already satisfied: jsonschema>=2.6 in c:\\users\\saksh\\anaconda3\\lib\\site-packages (from qiskit-terra==0.18.1->qiskit[visualization]) (3.2.0)\n",
      "Requirement already satisfied: ply>=3.10 in c:\\users\\saksh\\anaconda3\\lib\\site-packages (from qiskit-terra==0.18.1->qiskit[visualization]) (3.11)\n",
      "Requirement already satisfied: dill>=0.3 in c:\\users\\saksh\\anaconda3\\lib\\site-packages (from qiskit-terra==0.18.1->qiskit[visualization]) (0.3.4)\n",
      "Requirement already satisfied: python-constraint>=1.4 in c:\\users\\saksh\\anaconda3\\lib\\site-packages (from qiskit-terra==0.18.1->qiskit[visualization]) (1.4.0)\n",
      "Requirement already satisfied: websocket-client>=1.0.1 in c:\\users\\saksh\\anaconda3\\lib\\site-packages (from qiskit-ibmq-provider==0.16.0->qiskit[visualization]) (1.2.1)\n",
      "Requirement already satisfied: requests>=2.19 in c:\\users\\saksh\\anaconda3\\lib\\site-packages (from qiskit-ibmq-provider==0.16.0->qiskit[visualization]) (2.24.0)\n",
      "Requirement already satisfied: requests-ntlm>=1.1.0 in c:\\users\\saksh\\anaconda3\\lib\\site-packages (from qiskit-ibmq-provider==0.16.0->qiskit[visualization]) (1.1.0)\n",
      "Requirement already satisfied: urllib3>=1.21.1 in c:\\users\\saksh\\anaconda3\\lib\\site-packages (from qiskit-ibmq-provider==0.16.0->qiskit[visualization]) (1.25.9)\n",
      "Requirement already satisfied: cycler>=0.10 in c:\\users\\saksh\\anaconda3\\lib\\site-packages (from matplotlib>=2.1; extra == \"visualization\"->qiskit[visualization]) (0.10.0)\n",
      "Requirement already satisfied: kiwisolver>=1.0.1 in c:\\users\\saksh\\anaconda3\\lib\\site-packages (from matplotlib>=2.1; extra == \"visualization\"->qiskit[visualization]) (1.2.0)\n",
      "Requirement already satisfied: pyparsing!=2.0.4,!=2.1.2,!=2.1.6,>=2.0.1 in c:\\users\\saksh\\anaconda3\\lib\\site-packages (from matplotlib>=2.1; extra == \"visualization\"->qiskit[visualization]) (2.4.7)\n",
      "Requirement already satisfied: ipykernel>=4.5.1 in c:\\users\\saksh\\anaconda3\\lib\\site-packages (from ipywidgets>=7.3.0; extra == \"visualization\"->qiskit[visualization]) (5.3.2)\n",
      "Requirement already satisfied: widgetsnbextension~=3.5.0 in c:\\users\\saksh\\anaconda3\\lib\\site-packages (from ipywidgets>=7.3.0; extra == \"visualization\"->qiskit[visualization]) (3.5.1)\n",
      "Requirement already satisfied: nbformat>=4.2.0 in c:\\users\\saksh\\anaconda3\\lib\\site-packages (from ipywidgets>=7.3.0; extra == \"visualization\"->qiskit[visualization]) (5.0.7)\n",
      "Requirement already satisfied: traitlets>=4.3.1 in c:\\users\\saksh\\anaconda3\\lib\\site-packages (from ipywidgets>=7.3.0; extra == \"visualization\"->qiskit[visualization]) (4.3.3)\n",
      "Requirement already satisfied: ipython>=4.0.0; python_version >= \"3.3\" in c:\\users\\saksh\\anaconda3\\lib\\site-packages (from ipywidgets>=7.3.0; extra == \"visualization\"->qiskit[visualization]) (7.16.1)\n",
      "Requirement already satisfied: six in c:\\users\\saksh\\anaconda3\\lib\\site-packages (from docplex>=2.21.207->qiskit-aqua==0.9.4->qiskit[visualization]) (1.15.0)\n",
      "Requirement already satisfied: multitasking>=0.0.7 in c:\\users\\saksh\\anaconda3\\lib\\site-packages (from yfinance<0.1.63->qiskit-aqua==0.9.4->qiskit[visualization]) (0.0.9)\n",
      "Requirement already satisfied: lxml>=4.5.1 in c:\\users\\saksh\\anaconda3\\lib\\site-packages (from yfinance<0.1.63->qiskit-aqua==0.9.4->qiskit[visualization]) (4.5.2)\n",
      "Requirement already satisfied: threadpoolctl>=2.0.0 in c:\\users\\saksh\\anaconda3\\lib\\site-packages (from scikit-learn>=0.20.0->qiskit-aqua==0.9.4->qiskit[visualization]) (2.1.0)\n",
      "Requirement already satisfied: joblib>=0.11 in c:\\users\\saksh\\anaconda3\\lib\\site-packages (from scikit-learn>=0.20.0->qiskit-aqua==0.9.4->qiskit[visualization]) (0.16.0)\n",
      "Requirement already satisfied: more-itertools in c:\\users\\saksh\\anaconda3\\lib\\site-packages (from quandl->qiskit-aqua==0.9.4->qiskit[visualization]) (8.4.0)\n",
      "Requirement already satisfied: inflection>=0.3.1 in c:\\users\\saksh\\anaconda3\\lib\\site-packages (from quandl->qiskit-aqua==0.9.4->qiskit[visualization]) (0.5.1)\n",
      "Requirement already satisfied: mpmath>=0.19 in c:\\users\\saksh\\anaconda3\\lib\\site-packages (from sympy>=1.3->qiskit-aqua==0.9.4->qiskit[visualization]) (1.1.0)\n",
      "Requirement already satisfied: pytz>=2017.2 in c:\\users\\saksh\\anaconda3\\lib\\site-packages (from pandas->qiskit-aqua==0.9.4->qiskit[visualization]) (2020.1)\n",
      "Requirement already satisfied: attrs>=17.4.0 in c:\\users\\saksh\\anaconda3\\lib\\site-packages (from jsonschema>=2.6->qiskit-terra==0.18.1->qiskit[visualization]) (19.3.0)\n",
      "Requirement already satisfied: pyrsistent>=0.14.0 in c:\\users\\saksh\\anaconda3\\lib\\site-packages (from jsonschema>=2.6->qiskit-terra==0.18.1->qiskit[visualization]) (0.16.0)\n",
      "Requirement already satisfied: certifi>=2017.4.17 in c:\\users\\saksh\\anaconda3\\lib\\site-packages (from requests>=2.19->qiskit-ibmq-provider==0.16.0->qiskit[visualization]) (2020.6.20)\n",
      "Requirement already satisfied: idna<3,>=2.5 in c:\\users\\saksh\\anaconda3\\lib\\site-packages (from requests>=2.19->qiskit-ibmq-provider==0.16.0->qiskit[visualization]) (2.10)\n",
      "Requirement already satisfied: chardet<4,>=3.0.2 in c:\\users\\saksh\\anaconda3\\lib\\site-packages (from requests>=2.19->qiskit-ibmq-provider==0.16.0->qiskit[visualization]) (3.0.4)\n",
      "Requirement already satisfied: cryptography>=1.3 in c:\\users\\saksh\\anaconda3\\lib\\site-packages (from requests-ntlm>=1.1.0->qiskit-ibmq-provider==0.16.0->qiskit[visualization]) (2.9.2)\n",
      "Requirement already satisfied: ntlm-auth>=1.0.2 in c:\\users\\saksh\\anaconda3\\lib\\site-packages (from requests-ntlm>=1.1.0->qiskit-ibmq-provider==0.16.0->qiskit[visualization]) (1.5.0)\n",
      "Requirement already satisfied: tornado>=4.2 in c:\\users\\saksh\\anaconda3\\lib\\site-packages (from ipykernel>=4.5.1->ipywidgets>=7.3.0; extra == \"visualization\"->qiskit[visualization]) (6.0.4)\n",
      "Requirement already satisfied: jupyter-client in c:\\users\\saksh\\anaconda3\\lib\\site-packages (from ipykernel>=4.5.1->ipywidgets>=7.3.0; extra == \"visualization\"->qiskit[visualization]) (6.1.6)\n",
      "Requirement already satisfied: notebook>=4.4.1 in c:\\users\\saksh\\anaconda3\\lib\\site-packages (from widgetsnbextension~=3.5.0->ipywidgets>=7.3.0; extra == \"visualization\"->qiskit[visualization]) (6.0.3)\n",
      "Requirement already satisfied: ipython-genutils in c:\\users\\saksh\\anaconda3\\lib\\site-packages (from nbformat>=4.2.0->ipywidgets>=7.3.0; extra == \"visualization\"->qiskit[visualization]) (0.2.0)\n",
      "Requirement already satisfied: jupyter-core in c:\\users\\saksh\\anaconda3\\lib\\site-packages (from nbformat>=4.2.0->ipywidgets>=7.3.0; extra == \"visualization\"->qiskit[visualization]) (4.6.3)\n",
      "Requirement already satisfied: decorator in c:\\users\\saksh\\anaconda3\\lib\\site-packages (from traitlets>=4.3.1->ipywidgets>=7.3.0; extra == \"visualization\"->qiskit[visualization]) (4.4.2)\n",
      "Requirement already satisfied: pickleshare in c:\\users\\saksh\\anaconda3\\lib\\site-packages (from ipython>=4.0.0; python_version >= \"3.3\"->ipywidgets>=7.3.0; extra == \"visualization\"->qiskit[visualization]) (0.7.5)\n",
      "Requirement already satisfied: backcall in c:\\users\\saksh\\anaconda3\\lib\\site-packages (from ipython>=4.0.0; python_version >= \"3.3\"->ipywidgets>=7.3.0; extra == \"visualization\"->qiskit[visualization]) (0.2.0)\n",
      "Requirement already satisfied: jedi>=0.10 in c:\\users\\saksh\\anaconda3\\lib\\site-packages (from ipython>=4.0.0; python_version >= \"3.3\"->ipywidgets>=7.3.0; extra == \"visualization\"->qiskit[visualization]) (0.17.1)\n",
      "Requirement already satisfied: colorama; sys_platform == \"win32\" in c:\\users\\saksh\\anaconda3\\lib\\site-packages (from ipython>=4.0.0; python_version >= \"3.3\"->ipywidgets>=7.3.0; extra == \"visualization\"->qiskit[visualization]) (0.4.3)\n",
      "Requirement already satisfied: prompt-toolkit!=3.0.0,!=3.0.1,<3.1.0,>=2.0.0 in c:\\users\\saksh\\anaconda3\\lib\\site-packages (from ipython>=4.0.0; python_version >= \"3.3\"->ipywidgets>=7.3.0; extra == \"visualization\"->qiskit[visualization]) (3.0.5)\n",
      "Requirement already satisfied: cffi!=1.11.3,>=1.8 in c:\\users\\saksh\\anaconda3\\lib\\site-packages (from cryptography>=1.3->requests-ntlm>=1.1.0->qiskit-ibmq-provider==0.16.0->qiskit[visualization]) (1.14.0)\n",
      "Requirement already satisfied: pyzmq>=13 in c:\\users\\saksh\\anaconda3\\lib\\site-packages (from jupyter-client->ipykernel>=4.5.1->ipywidgets>=7.3.0; extra == \"visualization\"->qiskit[visualization]) (19.0.1)\n",
      "Requirement already satisfied: terminado>=0.8.1 in c:\\users\\saksh\\anaconda3\\lib\\site-packages (from notebook>=4.4.1->widgetsnbextension~=3.5.0->ipywidgets>=7.3.0; extra == \"visualization\"->qiskit[visualization]) (0.8.3)\n",
      "Requirement already satisfied: prometheus-client in c:\\users\\saksh\\anaconda3\\lib\\site-packages (from notebook>=4.4.1->widgetsnbextension~=3.5.0->ipywidgets>=7.3.0; extra == \"visualization\"->qiskit[visualization]) (0.8.0)\n",
      "Requirement already satisfied: jinja2 in c:\\users\\saksh\\anaconda3\\lib\\site-packages (from notebook>=4.4.1->widgetsnbextension~=3.5.0->ipywidgets>=7.3.0; extra == \"visualization\"->qiskit[visualization]) (2.11.2)\n",
      "Requirement already satisfied: Send2Trash in c:\\users\\saksh\\anaconda3\\lib\\site-packages (from notebook>=4.4.1->widgetsnbextension~=3.5.0->ipywidgets>=7.3.0; extra == \"visualization\"->qiskit[visualization]) (1.5.0)\n",
      "Requirement already satisfied: nbconvert in c:\\users\\saksh\\anaconda3\\lib\\site-packages (from notebook>=4.4.1->widgetsnbextension~=3.5.0->ipywidgets>=7.3.0; extra == \"visualization\"->qiskit[visualization]) (5.6.1)\n",
      "Requirement already satisfied: pywin32>=1.0; sys_platform == \"win32\" in c:\\users\\saksh\\anaconda3\\lib\\site-packages (from jupyter-core->nbformat>=4.2.0->ipywidgets>=7.3.0; extra == \"visualization\"->qiskit[visualization]) (227)\n",
      "Requirement already satisfied: parso<0.8.0,>=0.7.0 in c:\\users\\saksh\\anaconda3\\lib\\site-packages (from jedi>=0.10->ipython>=4.0.0; python_version >= \"3.3\"->ipywidgets>=7.3.0; extra == \"visualization\"->qiskit[visualization]) (0.7.0)\n",
      "Requirement already satisfied: wcwidth in c:\\users\\saksh\\anaconda3\\lib\\site-packages (from prompt-toolkit!=3.0.0,!=3.0.1,<3.1.0,>=2.0.0->ipython>=4.0.0; python_version >= \"3.3\"->ipywidgets>=7.3.0; extra == \"visualization\"->qiskit[visualization]) (0.2.5)\n",
      "Requirement already satisfied: pycparser in c:\\users\\saksh\\anaconda3\\lib\\site-packages (from cffi!=1.11.3,>=1.8->cryptography>=1.3->requests-ntlm>=1.1.0->qiskit-ibmq-provider==0.16.0->qiskit[visualization]) (2.20)\n",
      "Requirement already satisfied: MarkupSafe>=0.23 in c:\\users\\saksh\\anaconda3\\lib\\site-packages (from jinja2->notebook>=4.4.1->widgetsnbextension~=3.5.0->ipywidgets>=7.3.0; extra == \"visualization\"->qiskit[visualization]) (1.1.1)\n",
      "Requirement already satisfied: testpath in c:\\users\\saksh\\anaconda3\\lib\\site-packages (from nbconvert->notebook>=4.4.1->widgetsnbextension~=3.5.0->ipywidgets>=7.3.0; extra == \"visualization\"->qiskit[visualization]) (0.4.4)\n",
      "Requirement already satisfied: entrypoints>=0.2.2 in c:\\users\\saksh\\anaconda3\\lib\\site-packages (from nbconvert->notebook>=4.4.1->widgetsnbextension~=3.5.0->ipywidgets>=7.3.0; extra == \"visualization\"->qiskit[visualization]) (0.3)\n",
      "Requirement already satisfied: bleach in c:\\users\\saksh\\anaconda3\\lib\\site-packages (from nbconvert->notebook>=4.4.1->widgetsnbextension~=3.5.0->ipywidgets>=7.3.0; extra == \"visualization\"->qiskit[visualization]) (3.1.5)\n",
      "Requirement already satisfied: pandocfilters>=1.4.1 in c:\\users\\saksh\\anaconda3\\lib\\site-packages (from nbconvert->notebook>=4.4.1->widgetsnbextension~=3.5.0->ipywidgets>=7.3.0; extra == \"visualization\"->qiskit[visualization]) (1.4.2)\n",
      "Requirement already satisfied: defusedxml in c:\\users\\saksh\\anaconda3\\lib\\site-packages (from nbconvert->notebook>=4.4.1->widgetsnbextension~=3.5.0->ipywidgets>=7.3.0; extra == \"visualization\"->qiskit[visualization]) (0.6.0)\n",
      "Requirement already satisfied: mistune<2,>=0.8.1 in c:\\users\\saksh\\anaconda3\\lib\\site-packages (from nbconvert->notebook>=4.4.1->widgetsnbextension~=3.5.0->ipywidgets>=7.3.0; extra == \"visualization\"->qiskit[visualization]) (0.8.4)\n",
      "Requirement already satisfied: packaging in c:\\users\\saksh\\anaconda3\\lib\\site-packages (from bleach->nbconvert->notebook>=4.4.1->widgetsnbextension~=3.5.0->ipywidgets>=7.3.0; extra == \"visualization\"->qiskit[visualization]) (20.4)\n",
      "Requirement already satisfied: webencodings in c:\\users\\saksh\\anaconda3\\lib\\site-packages (from bleach->nbconvert->notebook>=4.4.1->widgetsnbextension~=3.5.0->ipywidgets>=7.3.0; extra == \"visualization\"->qiskit[visualization]) (0.5.1)\n",
      "Building wheels for collected packages: pylatexenc\n",
      "  Building wheel for pylatexenc (setup.py): started\n",
      "  Building wheel for pylatexenc (setup.py): finished with status 'done'\n",
      "  Created wheel for pylatexenc: filename=pylatexenc-2.10-py3-none-any.whl size=136829 sha256=2c83c4b350634a0d135095539c95ee73864c20b1ba4c40839de210e6ce19ce61\n",
      "  Stored in directory: c:\\users\\saksh\\appdata\\local\\pip\\cache\\wheels\\72\\99\\be\\81d9bcdf5dd5ee5acd8119a9dd5bc07204c9ce205fd341b021\n",
      "Successfully built pylatexenc\n",
      "Installing collected packages: pylatexenc, pydot\n",
      "Successfully installed pydot-1.4.2 pylatexenc-2.10\n"
     ]
    }
   ],
   "source": [
    "#install QISKIT\n",
    "!pip install qiskit[visualization]"
   ]
  },
  {
   "cell_type": "code",
   "execution_count": 2,
   "metadata": {},
   "outputs": [],
   "source": [
    "import numpy as np\n",
    "from qiskit import *"
   ]
  },
  {
   "cell_type": "code",
   "execution_count": 8,
   "metadata": {},
   "outputs": [
    {
     "data": {
      "image/png": "[encoded data removed]",
      "text/plain": [
       "<Figure size 267.197x204.68 with 1 Axes>"
      ]
     },
     "execution_count": 8,
     "metadata": {},
     "output_type": "execute_result"
    }
   ],
   "source": [
    "# Create a Quantum Circuit acting on a quantum register of three qubits\n",
    "circ = QuantumCircuit(3)\n",
    "initial_state = [0,1]   # Define initial_state as |1>\n",
    "circ.initialize(initial_state, 1) # Apply initialisation operation to the 0th qubit\n",
    "circ.draw()  # Let's view our circuit\n",
    "# Add a H gate on qubit 0, putting this qubit in superposition.\n",
    "circ.h(0)\n",
    "# Add a CX (CNOT) gate on control qubit 0 and target qubit 1, putting\n",
    "# the qubits in a Bell state.\n",
    "circ.cx(0, 1)\n",
    "# Add a CX (CNOT) gate on control qubit 0 and target qubit 2, putting\n",
    "# the qubits in a GHZ state.\n",
    "circ.cx(0, 2)\n",
    "circ.draw('mpl')"
   ]
  },
  {
   "cell_type": "code",
   "execution_count": 9,
   "metadata": {},
   "outputs": [
    {
     "data": {
      "text/html": [
       "<pre style=\"word-wrap: normal;white-space: pre;background: #fff0;line-height: 1.1;font-family: &quot;Courier New&quot;,Courier,monospace\">            ┌───┐                  ░ ┌─┐      \n",
       "q_0: ───────┤ H ├─────────■────■───░─┤M├──────\n",
       "     ┌──────┴───┴──────┐┌─┴─┐  │   ░ └╥┘┌─┐   \n",
       "q_1: ┤ Initialize(0,1) ├┤ X ├──┼───░──╫─┤M├───\n",
       "     └─────────────────┘└───┘┌─┴─┐ ░  ║ └╥┘┌─┐\n",
       "q_2: ────────────────────────┤ X ├─░──╫──╫─┤M├\n",
       "                             └───┘ ░  ║  ║ └╥┘\n",
       "c: 3/═════════════════════════════════╩══╩══╩═\n",
       "                                      0  1  2 </pre>"
      ],
      "text/plain": [
       "            ┌───┐                  ░ ┌─┐      \n",
       "q_0: ───────┤ H ├─────────■────■───░─┤M├──────\n",
       "     ┌──────┴───┴──────┐┌─┴─┐  │   ░ └╥┘┌─┐   \n",
       "q_1: ┤ Initialize(0,1) ├┤ X ├──┼───░──╫─┤M├───\n",
       "     └─────────────────┘└───┘┌─┴─┐ ░  ║ └╥┘┌─┐\n",
       "q_2: ────────────────────────┤ X ├─░──╫──╫─┤M├\n",
       "                             └───┘ ░  ║  ║ └╥┘\n",
       "c: 3/═════════════════════════════════╩══╩══╩═\n",
       "                                      0  1  2 "
      ]
     },
     "execution_count": 9,
     "metadata": {},
     "output_type": "execute_result"
    }
   ],
   "source": [
    "# Create a Quantum Circuit\n",
    "meas = QuantumCircuit(3, 3)\n",
    "meas.barrier(range(3))\n",
    "# map the quantum measurement to the classical bits\n",
    "meas.measure(range(3), range(3))\n",
    "\n",
    "# The Qiskit circuit object supports composition using\n",
    "# the addition operator.\n",
    "circ.add_register(meas.cregs[0])\n",
    "qc = circ.compose(meas)\n",
    "\n",
    "#drawing the circuit\n",
    "qc.draw()\n"
   ]
  },
  {
   "cell_type": "code",
   "execution_count": 10,
   "metadata": {},
   "outputs": [],
   "source": [
    "# Use Aer's qasm_simulator\n",
    "backend_sim = Aer.get_backend('qasm_simulator')\n",
    "\n",
    "# Execute the circuit on the qasm simulator.\n",
    "# We've set the number of repeats of the circuit\n",
    "# to be 1024, which is the default.\n",
    "job_sim = backend_sim.run(transpile(qc, backend_sim), shots=1024)\n",
    "\n",
    "# Grab the results from the job.\n",
    "result_sim = job_sim.result()"
   ]
  },
  {
   "cell_type": "code",
   "execution_count": 11,
   "metadata": {},
   "outputs": [
    {
     "name": "stdout",
     "output_type": "stream",
     "text": [
      "{'101': 524, '010': 500}\n"
     ]
    }
   ],
   "source": [
    "#probability of different quantum states\n",
    "counts = result_sim.get_counts(qc)\n",
    "print(counts)"
   ]
  }
 ],
 "metadata": {
  "kernelspec": {
   "display_name": "Python 3",
   "language": "python",
   "name": "python3"
  },
  "language_info": {
   "codemirror_mode": {
    "name": "ipython",
    "version": 3
   },
   "file_extension": ".py",
   "mimetype": "text/x-python",
   "name": "python",
   "nbconvert_exporter": "python",
   "pygments_lexer": "ipython3",
   "version": "3.8.3"
  }
 },
 "nbformat": 4,
 "nbformat_minor": 4
}
